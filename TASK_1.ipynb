{
 "cells": [
  {
   "cell_type": "markdown",
   "id": "ed652f02",
   "metadata": {},
   "source": [
    "## TASK 1 : MOVIE GENRE CLASSIFICATION\n"
   ]
  },
  {
   "cell_type": "code",
   "execution_count": 13,
   "id": "9c508e8b",
   "metadata": {},
   "outputs": [
    {
     "data": {
      "text/plain": [
       "'\\n\\nName : Tanishq Tajne\\nCollege : Pimpri Chinchwad College of Engineering\\n\\nCreate a machine learning model that can predict the genre of a\\nmovie based on its plot summary or \"other textual information. You\\ncan use techniques like TF-IDF or word embeddings with classifiers\\nsuch as Naive Bayes, Logistic Regression, or Support Vector\\n\\nMachines.\\n'"
      ]
     },
     "execution_count": 13,
     "metadata": {},
     "output_type": "execute_result"
    }
   ],
   "source": [
    "\"\"\"\n",
    "\n",
    "Name : Tanishq Tajne\n",
    "College : Pimpri Chinchwad College of Engineering\n",
    "\n",
    "Create a machine learning model that can predict the genre of a\n",
    "movie based on its plot summary or \"other textual information. You\n",
    "can use techniques like TF-IDF or word embeddings with classifiers\n",
    "such as Naive Bayes, Logistic Regression, or Support Vector\n",
    "\n",
    "Machines.\n",
    "\"\"\""
   ]
  },
  {
   "cell_type": "code",
   "execution_count": 3,
   "id": "7adbbbf5",
   "metadata": {},
   "outputs": [],
   "source": [
    "import pandas as pd\n",
    "import warnings\n",
    "warnings.filterwarnings(\"ignore\")\n",
    "data=pd.read_csv(\"description.txt\")"
   ]
  },
  {
   "cell_type": "code",
   "execution_count": 4,
   "id": "964b81ee",
   "metadata": {},
   "outputs": [
    {
     "data": {
      "text/html": [
       "<div>\n",
       "<style scoped>\n",
       "    .dataframe tbody tr th:only-of-type {\n",
       "        vertical-align: middle;\n",
       "    }\n",
       "\n",
       "    .dataframe tbody tr th {\n",
       "        vertical-align: top;\n",
       "    }\n",
       "\n",
       "    .dataframe thead th {\n",
       "        text-align: right;\n",
       "    }\n",
       "</style>\n",
       "<table border=\"1\" class=\"dataframe\">\n",
       "  <thead>\n",
       "    <tr style=\"text-align: right;\">\n",
       "      <th></th>\n",
       "      <th>Train data:</th>\n",
       "    </tr>\n",
       "  </thead>\n",
       "  <tbody>\n",
       "    <tr>\n",
       "      <th>0</th>\n",
       "      <td>ID ::: TITLE ::: GENRE ::: DESCRIPTION</td>\n",
       "    </tr>\n",
       "    <tr>\n",
       "      <th>1</th>\n",
       "      <td>ID ::: TITLE ::: GENRE ::: DESCRIPTION</td>\n",
       "    </tr>\n",
       "    <tr>\n",
       "      <th>2</th>\n",
       "      <td>ID ::: TITLE ::: GENRE ::: DESCRIPTION</td>\n",
       "    </tr>\n",
       "    <tr>\n",
       "      <th>3</th>\n",
       "      <td>ID ::: TITLE ::: GENRE ::: DESCRIPTION</td>\n",
       "    </tr>\n",
       "    <tr>\n",
       "      <th>4</th>\n",
       "      <td>Test data:</td>\n",
       "    </tr>\n",
       "  </tbody>\n",
       "</table>\n",
       "</div>"
      ],
      "text/plain": [
       "                              Train data:\n",
       "0  ID ::: TITLE ::: GENRE ::: DESCRIPTION\n",
       "1  ID ::: TITLE ::: GENRE ::: DESCRIPTION\n",
       "2  ID ::: TITLE ::: GENRE ::: DESCRIPTION\n",
       "3  ID ::: TITLE ::: GENRE ::: DESCRIPTION\n",
       "4                              Test data:"
      ]
     },
     "execution_count": 4,
     "metadata": {},
     "output_type": "execute_result"
    }
   ],
   "source": [
    "data.head()"
   ]
  },
  {
   "cell_type": "code",
   "execution_count": 5,
   "id": "aca1c66f",
   "metadata": {},
   "outputs": [],
   "source": [
    "def loadData(f_path):\n",
    "    with open(f_path, 'r', encoding='utf-8') as f:\n",
    "        data = f.readlines()\n",
    "    data = [line.strip().split(' ::: ') for line in data]\n",
    "    return data"
   ]
  },
  {
   "cell_type": "code",
   "execution_count": 6,
   "id": "0521d4b9",
   "metadata": {},
   "outputs": [
    {
     "data": {
      "text/html": [
       "<div>\n",
       "<style scoped>\n",
       "    .dataframe tbody tr th:only-of-type {\n",
       "        vertical-align: middle;\n",
       "    }\n",
       "\n",
       "    .dataframe tbody tr th {\n",
       "        vertical-align: top;\n",
       "    }\n",
       "\n",
       "    .dataframe thead th {\n",
       "        text-align: right;\n",
       "    }\n",
       "</style>\n",
       "<table border=\"1\" class=\"dataframe\">\n",
       "  <thead>\n",
       "    <tr style=\"text-align: right;\">\n",
       "      <th></th>\n",
       "      <th>0</th>\n",
       "      <th>1</th>\n",
       "      <th>2</th>\n",
       "      <th>3</th>\n",
       "    </tr>\n",
       "  </thead>\n",
       "  <tbody>\n",
       "    <tr>\n",
       "      <th>0</th>\n",
       "      <td>1</td>\n",
       "      <td>Oscar et la dame rose (2009)</td>\n",
       "      <td>drama</td>\n",
       "      <td>Listening in to a conversation between his doc...</td>\n",
       "    </tr>\n",
       "    <tr>\n",
       "      <th>1</th>\n",
       "      <td>2</td>\n",
       "      <td>Cupid (1997)</td>\n",
       "      <td>thriller</td>\n",
       "      <td>A brother and sister with a past incestuous re...</td>\n",
       "    </tr>\n",
       "    <tr>\n",
       "      <th>2</th>\n",
       "      <td>3</td>\n",
       "      <td>Young, Wild and Wonderful (1980)</td>\n",
       "      <td>adult</td>\n",
       "      <td>As the bus empties the students for their fiel...</td>\n",
       "    </tr>\n",
       "    <tr>\n",
       "      <th>3</th>\n",
       "      <td>4</td>\n",
       "      <td>The Secret Sin (1915)</td>\n",
       "      <td>drama</td>\n",
       "      <td>To help their unemployed father make ends meet...</td>\n",
       "    </tr>\n",
       "    <tr>\n",
       "      <th>4</th>\n",
       "      <td>5</td>\n",
       "      <td>The Unrecovered (2007)</td>\n",
       "      <td>drama</td>\n",
       "      <td>The film's title refers not only to the un-rec...</td>\n",
       "    </tr>\n",
       "  </tbody>\n",
       "</table>\n",
       "</div>"
      ],
      "text/plain": [
       "   0                                 1         2  \\\n",
       "0  1      Oscar et la dame rose (2009)     drama   \n",
       "1  2                      Cupid (1997)  thriller   \n",
       "2  3  Young, Wild and Wonderful (1980)     adult   \n",
       "3  4             The Secret Sin (1915)     drama   \n",
       "4  5            The Unrecovered (2007)     drama   \n",
       "\n",
       "                                                   3  \n",
       "0  Listening in to a conversation between his doc...  \n",
       "1  A brother and sister with a past incestuous re...  \n",
       "2  As the bus empties the students for their fiel...  \n",
       "3  To help their unemployed father make ends meet...  \n",
       "4  The film's title refers not only to the un-rec...  "
      ]
     },
     "execution_count": 6,
     "metadata": {},
     "output_type": "execute_result"
    }
   ],
   "source": [
    "train_data = loadData(\"train_data.txt\")\n",
    "train_df = pd.DataFrame(train_data)\n",
    "train_df.head()"
   ]
  },
  {
   "cell_type": "code",
   "execution_count": 7,
   "id": "ebf10fe8",
   "metadata": {},
   "outputs": [
    {
     "data": {
      "text/html": [
       "<div>\n",
       "<style scoped>\n",
       "    .dataframe tbody tr th:only-of-type {\n",
       "        vertical-align: middle;\n",
       "    }\n",
       "\n",
       "    .dataframe tbody tr th {\n",
       "        vertical-align: top;\n",
       "    }\n",
       "\n",
       "    .dataframe thead th {\n",
       "        text-align: right;\n",
       "    }\n",
       "</style>\n",
       "<table border=\"1\" class=\"dataframe\">\n",
       "  <thead>\n",
       "    <tr style=\"text-align: right;\">\n",
       "      <th></th>\n",
       "      <th>ID</th>\n",
       "      <th>Title</th>\n",
       "      <th>Genre</th>\n",
       "      <th>Description</th>\n",
       "    </tr>\n",
       "  </thead>\n",
       "  <tbody>\n",
       "    <tr>\n",
       "      <th>0</th>\n",
       "      <td>1</td>\n",
       "      <td>Oscar et la dame rose (2009)</td>\n",
       "      <td>drama</td>\n",
       "      <td>Listening in to a conversation between his doc...</td>\n",
       "    </tr>\n",
       "    <tr>\n",
       "      <th>1</th>\n",
       "      <td>2</td>\n",
       "      <td>Cupid (1997)</td>\n",
       "      <td>thriller</td>\n",
       "      <td>A brother and sister with a past incestuous re...</td>\n",
       "    </tr>\n",
       "    <tr>\n",
       "      <th>2</th>\n",
       "      <td>3</td>\n",
       "      <td>Young, Wild and Wonderful (1980)</td>\n",
       "      <td>adult</td>\n",
       "      <td>As the bus empties the students for their fiel...</td>\n",
       "    </tr>\n",
       "    <tr>\n",
       "      <th>3</th>\n",
       "      <td>4</td>\n",
       "      <td>The Secret Sin (1915)</td>\n",
       "      <td>drama</td>\n",
       "      <td>To help their unemployed father make ends meet...</td>\n",
       "    </tr>\n",
       "    <tr>\n",
       "      <th>4</th>\n",
       "      <td>5</td>\n",
       "      <td>The Unrecovered (2007)</td>\n",
       "      <td>drama</td>\n",
       "      <td>The film's title refers not only to the un-rec...</td>\n",
       "    </tr>\n",
       "  </tbody>\n",
       "</table>\n",
       "</div>"
      ],
      "text/plain": [
       "  ID                             Title     Genre  \\\n",
       "0  1      Oscar et la dame rose (2009)     drama   \n",
       "1  2                      Cupid (1997)  thriller   \n",
       "2  3  Young, Wild and Wonderful (1980)     adult   \n",
       "3  4             The Secret Sin (1915)     drama   \n",
       "4  5            The Unrecovered (2007)     drama   \n",
       "\n",
       "                                         Description  \n",
       "0  Listening in to a conversation between his doc...  \n",
       "1  A brother and sister with a past incestuous re...  \n",
       "2  As the bus empties the students for their fiel...  \n",
       "3  To help their unemployed father make ends meet...  \n",
       "4  The film's title refers not only to the un-rec...  "
      ]
     },
     "execution_count": 7,
     "metadata": {},
     "output_type": "execute_result"
    }
   ],
   "source": [
    "train_df.columns = ['ID','Title','Genre','Description']\n",
    "train_df.head()"
   ]
  },
  {
   "cell_type": "markdown",
   "id": "24a579db",
   "metadata": {},
   "source": [
    "Test Dataset"
   ]
  },
  {
   "cell_type": "code",
   "execution_count": 8,
   "id": "c8f3cb41",
   "metadata": {},
   "outputs": [
    {
     "data": {
      "text/html": [
       "<div>\n",
       "<style scoped>\n",
       "    .dataframe tbody tr th:only-of-type {\n",
       "        vertical-align: middle;\n",
       "    }\n",
       "\n",
       "    .dataframe tbody tr th {\n",
       "        vertical-align: top;\n",
       "    }\n",
       "\n",
       "    .dataframe thead th {\n",
       "        text-align: right;\n",
       "    }\n",
       "</style>\n",
       "<table border=\"1\" class=\"dataframe\">\n",
       "  <thead>\n",
       "    <tr style=\"text-align: right;\">\n",
       "      <th></th>\n",
       "      <th>ID</th>\n",
       "      <th>Title</th>\n",
       "      <th>Description</th>\n",
       "    </tr>\n",
       "  </thead>\n",
       "  <tbody>\n",
       "    <tr>\n",
       "      <th>0</th>\n",
       "      <td>1</td>\n",
       "      <td>Edgar's Lunch (1998)</td>\n",
       "      <td>L.R. Brane loves his life - his car, his apart...</td>\n",
       "    </tr>\n",
       "    <tr>\n",
       "      <th>1</th>\n",
       "      <td>2</td>\n",
       "      <td>La guerra de papá (1977)</td>\n",
       "      <td>Spain, March 1964: Quico is a very naughty chi...</td>\n",
       "    </tr>\n",
       "    <tr>\n",
       "      <th>2</th>\n",
       "      <td>3</td>\n",
       "      <td>Off the Beaten Track (2010)</td>\n",
       "      <td>One year in the life of Albin and his family o...</td>\n",
       "    </tr>\n",
       "    <tr>\n",
       "      <th>3</th>\n",
       "      <td>4</td>\n",
       "      <td>Meu Amigo Hindu (2015)</td>\n",
       "      <td>His father has died, he hasn't spoken with his...</td>\n",
       "    </tr>\n",
       "    <tr>\n",
       "      <th>4</th>\n",
       "      <td>5</td>\n",
       "      <td>Er nu zhai (1955)</td>\n",
       "      <td>Before he was known internationally as a marti...</td>\n",
       "    </tr>\n",
       "  </tbody>\n",
       "</table>\n",
       "</div>"
      ],
      "text/plain": [
       "  ID                        Title  \\\n",
       "0  1         Edgar's Lunch (1998)   \n",
       "1  2     La guerra de papá (1977)   \n",
       "2  3  Off the Beaten Track (2010)   \n",
       "3  4       Meu Amigo Hindu (2015)   \n",
       "4  5            Er nu zhai (1955)   \n",
       "\n",
       "                                         Description  \n",
       "0  L.R. Brane loves his life - his car, his apart...  \n",
       "1  Spain, March 1964: Quico is a very naughty chi...  \n",
       "2  One year in the life of Albin and his family o...  \n",
       "3  His father has died, he hasn't spoken with his...  \n",
       "4  Before he was known internationally as a marti...  "
      ]
     },
     "execution_count": 8,
     "metadata": {},
     "output_type": "execute_result"
    }
   ],
   "source": [
    "test_data = loadData(\"test_data.txt\")\n",
    "test_df = pd.DataFrame(test_data, columns=['ID','Title','Description'])\n",
    "test_df.head()"
   ]
  },
  {
   "cell_type": "code",
   "execution_count": 9,
   "id": "bfb15abb",
   "metadata": {},
   "outputs": [
    {
     "data": {
      "text/html": [
       "<div>\n",
       "<style scoped>\n",
       "    .dataframe tbody tr th:only-of-type {\n",
       "        vertical-align: middle;\n",
       "    }\n",
       "\n",
       "    .dataframe tbody tr th {\n",
       "        vertical-align: top;\n",
       "    }\n",
       "\n",
       "    .dataframe thead th {\n",
       "        text-align: right;\n",
       "    }\n",
       "</style>\n",
       "<table border=\"1\" class=\"dataframe\">\n",
       "  <thead>\n",
       "    <tr style=\"text-align: right;\">\n",
       "      <th></th>\n",
       "      <th>ID</th>\n",
       "      <th>Title</th>\n",
       "      <th>Genre</th>\n",
       "      <th>Description</th>\n",
       "    </tr>\n",
       "  </thead>\n",
       "  <tbody>\n",
       "    <tr>\n",
       "      <th>0</th>\n",
       "      <td>1</td>\n",
       "      <td>Edgar's Lunch (1998)</td>\n",
       "      <td>thriller</td>\n",
       "      <td>L.R. Brane loves his life - his car, his apart...</td>\n",
       "    </tr>\n",
       "    <tr>\n",
       "      <th>1</th>\n",
       "      <td>2</td>\n",
       "      <td>La guerra de papá (1977)</td>\n",
       "      <td>comedy</td>\n",
       "      <td>Spain, March 1964: Quico is a very naughty chi...</td>\n",
       "    </tr>\n",
       "    <tr>\n",
       "      <th>2</th>\n",
       "      <td>3</td>\n",
       "      <td>Off the Beaten Track (2010)</td>\n",
       "      <td>documentary</td>\n",
       "      <td>One year in the life of Albin and his family o...</td>\n",
       "    </tr>\n",
       "    <tr>\n",
       "      <th>3</th>\n",
       "      <td>4</td>\n",
       "      <td>Meu Amigo Hindu (2015)</td>\n",
       "      <td>drama</td>\n",
       "      <td>His father has died, he hasn't spoken with his...</td>\n",
       "    </tr>\n",
       "    <tr>\n",
       "      <th>4</th>\n",
       "      <td>5</td>\n",
       "      <td>Er nu zhai (1955)</td>\n",
       "      <td>drama</td>\n",
       "      <td>Before he was known internationally as a marti...</td>\n",
       "    </tr>\n",
       "  </tbody>\n",
       "</table>\n",
       "</div>"
      ],
      "text/plain": [
       "  ID                        Title        Genre  \\\n",
       "0  1         Edgar's Lunch (1998)     thriller   \n",
       "1  2     La guerra de papá (1977)       comedy   \n",
       "2  3  Off the Beaten Track (2010)  documentary   \n",
       "3  4       Meu Amigo Hindu (2015)        drama   \n",
       "4  5            Er nu zhai (1955)        drama   \n",
       "\n",
       "                                         Description  \n",
       "0  L.R. Brane loves his life - his car, his apart...  \n",
       "1  Spain, March 1964: Quico is a very naughty chi...  \n",
       "2  One year in the life of Albin and his family o...  \n",
       "3  His father has died, he hasn't spoken with his...  \n",
       "4  Before he was known internationally as a marti...  "
      ]
     },
     "execution_count": 9,
     "metadata": {},
     "output_type": "execute_result"
    }
   ],
   "source": [
    "test_solution = loadData('test_data_solution.txt')\n",
    "test_solution_df = pd.DataFrame(test_solution, columns=['ID','Title','Genre','Description'])\n",
    "test_solution_df.head()"
   ]
  },
  {
   "cell_type": "markdown",
   "id": "5563c354",
   "metadata": {},
   "source": [
    "Feature Exraction"
   ]
  },
  {
   "cell_type": "code",
   "execution_count": 11,
   "id": "2e54d2ee",
   "metadata": {},
   "outputs": [],
   "source": [
    "from sklearn.feature_extraction.text import TfidfVectorizer\n",
    "vectorizer = TfidfVectorizer(max_features=10000)\n",
    "\n",
    "X_train = vectorizer.fit_transform(train_df[\"Description\"])\n",
    "X_test = vectorizer.transform(test_df[\"Description\"])"
   ]
  },
  {
   "cell_type": "code",
   "execution_count": 12,
   "id": "14a7c969",
   "metadata": {},
   "outputs": [
    {
     "name": "stdout",
     "output_type": "stream",
     "text": [
      "Training data shape : (54214, 10000)\n",
      "Testing data shape : (54200, 10000)\n"
     ]
    }
   ],
   "source": [
    "print(f\"Training data shape : {X_train.shape}\")\n",
    "print(f\"Testing data shape : {X_test.shape}\")"
   ]
  },
  {
   "cell_type": "markdown",
   "id": "723f01db",
   "metadata": {},
   "source": [
    "Encoding Target labels"
   ]
  },
  {
   "cell_type": "code",
   "execution_count": 14,
   "id": "d8f5e230",
   "metadata": {},
   "outputs": [
    {
     "name": "stdout",
     "output_type": "stream",
     "text": [
      "Unique generes in training data : ['action' 'adult' 'adventure' 'animation' 'biography' 'comedy' 'crime'\n",
      " 'documentary' 'drama' 'family' 'fantasy' 'game-show' 'history' 'horror'\n",
      " 'music' 'musical' 'mystery' 'news' 'reality-tv' 'romance' 'sci-fi'\n",
      " 'short' 'sport' 'talk-show' 'thriller' 'war' 'western']\n"
     ]
    }
   ],
   "source": [
    "from sklearn.preprocessing import LabelEncoder\n",
    "label_encoder = LabelEncoder()\n",
    "y_train = label_encoder.fit_transform(train_df['Genre'])\n",
    "print(f\"Unique generes in training data : {label_encoder.classes_}\")"
   ]
  },
  {
   "cell_type": "markdown",
   "id": "26ba68b2",
   "metadata": {},
   "source": [
    "Model : Logistic Regression"
   ]
  },
  {
   "cell_type": "code",
   "execution_count": 21,
   "id": "6757cc86",
   "metadata": {},
   "outputs": [
    {
     "data": {
      "application/vnd.microsoft.datawrangler.viewer.v0+json": {
       "columns": [
        {
         "name": "index",
         "rawType": "int64",
         "type": "integer"
        },
        {
         "name": "Title",
         "rawType": "object",
         "type": "string"
        },
        {
         "name": "Predicted_Genre",
         "rawType": "object",
         "type": "string"
        }
       ],
       "ref": "d8f1942f-aad1-4c26-aeb0-20f31f077c89",
       "rows": [
        [
         "0",
         "Edgar's Lunch (1998)",
         "drama"
        ],
        [
         "1",
         "La guerra de papá (1977)",
         "drama"
        ],
        [
         "2",
         "Off the Beaten Track (2010)",
         "documentary"
        ],
        [
         "3",
         "Meu Amigo Hindu (2015)",
         "drama"
        ],
        [
         "4",
         "Er nu zhai (1955)",
         "drama"
        ],
        [
         "5",
         "Riddle Room (2016)",
         "drama"
        ],
        [
         "6",
         "L'amica (1969)",
         "drama"
        ],
        [
         "7",
         "Ina Mina Dika (1989)",
         "comedy"
        ],
        [
         "8",
         "Equinox Special: Britain's Tornados (2005)",
         "documentary"
        ],
        [
         "9",
         "Press (2011)",
         "drama"
        ],
        [
         "10",
         "The Firm Man (1975)",
         "drama"
        ],
        [
         "11",
         "Out of Here (2013/I)",
         "drama"
        ],
        [
         "12",
         "Tip 2 (1990)",
         "drama"
        ],
        [
         "13",
         "Hero of the Day (2012)",
         "documentary"
        ],
        [
         "14",
         "Das letzte Mal (2000)",
         "short"
        ],
        [
         "15",
         "The Man in Every Shot (2010)",
         "sport"
        ],
        [
         "16",
         "The Kettles on Old MacDonald's Farm (1957)",
         "comedy"
        ],
        [
         "17",
         "The Patriot (1916)",
         "western"
        ],
        [
         "18",
         "\"The Rogue Legends Series\" (2017)",
         "documentary"
        ],
        [
         "19",
         "A Case of Mistaken Identity? (2008)",
         "drama"
        ],
        [
         "20",
         "Dinner for Three (2016)",
         "drama"
        ],
        [
         "21",
         "Crack Baby (????)",
         "documentary"
        ],
        [
         "22",
         "Paper Marilyn (1994)",
         "documentary"
        ],
        [
         "23",
         "A Tribute to Rick Nelson (1986)",
         "music"
        ],
        [
         "24",
         "The Silent Rice Fields of Bakan (2016)",
         "documentary"
        ],
        [
         "25",
         "Otetz Ivan i negovite detza (2010)",
         "documentary"
        ],
        [
         "26",
         "What's Left (2018)",
         "drama"
        ],
        [
         "27",
         "The Tunnel (????/II)",
         "drama"
        ],
        [
         "28",
         "EWR Revolution 2.0 (2005)",
         "sport"
        ],
        [
         "29",
         "Welcome to Welloak (????)",
         "comedy"
        ],
        [
         "30",
         "Pioneers of the West (1927)",
         "drama"
        ],
        [
         "31",
         "The Message of Hope (1923)",
         "drama"
        ],
        [
         "32",
         "Jose Jiminez Discovers America (1968)",
         "documentary"
        ],
        [
         "33",
         "Mafia Heaven (????)",
         "comedy"
        ],
        [
         "34",
         "In Our Lifetime (2017)",
         "drama"
        ],
        [
         "35",
         "By Their Own Hand: Police Suicides (1991)",
         "drama"
        ],
        [
         "36",
         "Snow (2017/II)",
         "drama"
        ],
        [
         "37",
         "Love Inn Exile (2000)",
         "drama"
        ],
        [
         "38",
         "\"Voyna na zapadnom napravlenii\" (1990)",
         "drama"
        ],
        [
         "39",
         "Les Fripiat (1987)",
         "drama"
        ],
        [
         "40",
         "Hyaku iro megane (2003)",
         "drama"
        ],
        [
         "41",
         "\"Bride vs. Bride\" (2006)",
         "comedy"
        ],
        [
         "42",
         "Breakfast Klub the DocKumentary (2005)",
         "documentary"
        ],
        [
         "43",
         "The Bridges That Built London (2012)",
         "documentary"
        ],
        [
         "44",
         "Shelter Me: Partners for Life (2015)",
         "documentary"
        ],
        [
         "45",
         "Da Vinci Code Decoded (2004)",
         "documentary"
        ],
        [
         "46",
         "\"El Acabose\" (2017)",
         "documentary"
        ],
        [
         "47",
         "\"Priceless\" (2012)",
         "drama"
        ],
        [
         "48",
         "Jump In: The Movie (2013)",
         "drama"
        ],
        [
         "49",
         "The Lazy Desperation (2006)",
         "documentary"
        ]
       ],
       "shape": {
        "columns": 2,
        "rows": 54200
       }
      },
      "text/html": [
       "<div>\n",
       "<style scoped>\n",
       "    .dataframe tbody tr th:only-of-type {\n",
       "        vertical-align: middle;\n",
       "    }\n",
       "\n",
       "    .dataframe tbody tr th {\n",
       "        vertical-align: top;\n",
       "    }\n",
       "\n",
       "    .dataframe thead th {\n",
       "        text-align: right;\n",
       "    }\n",
       "</style>\n",
       "<table border=\"1\" class=\"dataframe\">\n",
       "  <thead>\n",
       "    <tr style=\"text-align: right;\">\n",
       "      <th></th>\n",
       "      <th>Title</th>\n",
       "      <th>Predicted_Genre</th>\n",
       "    </tr>\n",
       "  </thead>\n",
       "  <tbody>\n",
       "    <tr>\n",
       "      <th>0</th>\n",
       "      <td>Edgar's Lunch (1998)</td>\n",
       "      <td>drama</td>\n",
       "    </tr>\n",
       "    <tr>\n",
       "      <th>1</th>\n",
       "      <td>La guerra de papá (1977)</td>\n",
       "      <td>drama</td>\n",
       "    </tr>\n",
       "    <tr>\n",
       "      <th>2</th>\n",
       "      <td>Off the Beaten Track (2010)</td>\n",
       "      <td>documentary</td>\n",
       "    </tr>\n",
       "    <tr>\n",
       "      <th>3</th>\n",
       "      <td>Meu Amigo Hindu (2015)</td>\n",
       "      <td>drama</td>\n",
       "    </tr>\n",
       "    <tr>\n",
       "      <th>4</th>\n",
       "      <td>Er nu zhai (1955)</td>\n",
       "      <td>drama</td>\n",
       "    </tr>\n",
       "    <tr>\n",
       "      <th>...</th>\n",
       "      <td>...</td>\n",
       "      <td>...</td>\n",
       "    </tr>\n",
       "    <tr>\n",
       "      <th>54195</th>\n",
       "      <td>\"Tales of Light &amp; Dark\" (2013)</td>\n",
       "      <td>drama</td>\n",
       "    </tr>\n",
       "    <tr>\n",
       "      <th>54196</th>\n",
       "      <td>Der letzte Mohikaner (1965)</td>\n",
       "      <td>drama</td>\n",
       "    </tr>\n",
       "    <tr>\n",
       "      <th>54197</th>\n",
       "      <td>Oliver Twink (2007)</td>\n",
       "      <td>comedy</td>\n",
       "    </tr>\n",
       "    <tr>\n",
       "      <th>54198</th>\n",
       "      <td>Slipstream (1973)</td>\n",
       "      <td>drama</td>\n",
       "    </tr>\n",
       "    <tr>\n",
       "      <th>54199</th>\n",
       "      <td>Curitiba Zero Grau (2010)</td>\n",
       "      <td>documentary</td>\n",
       "    </tr>\n",
       "  </tbody>\n",
       "</table>\n",
       "<p>54200 rows × 2 columns</p>\n",
       "</div>"
      ],
      "text/plain": [
       "                                Title Predicted_Genre\n",
       "0                Edgar's Lunch (1998)           drama\n",
       "1            La guerra de papá (1977)           drama\n",
       "2         Off the Beaten Track (2010)     documentary\n",
       "3              Meu Amigo Hindu (2015)           drama\n",
       "4                   Er nu zhai (1955)           drama\n",
       "...                               ...             ...\n",
       "54195  \"Tales of Light & Dark\" (2013)           drama\n",
       "54196     Der letzte Mohikaner (1965)           drama\n",
       "54197             Oliver Twink (2007)          comedy\n",
       "54198               Slipstream (1973)           drama\n",
       "54199       Curitiba Zero Grau (2010)     documentary\n",
       "\n",
       "[54200 rows x 2 columns]"
      ]
     },
     "execution_count": 21,
     "metadata": {},
     "output_type": "execute_result"
    }
   ],
   "source": [
    "from sklearn.linear_model import LogisticRegression\n",
    "lr = LogisticRegression(max_iter = 200)\n",
    "lr.fit(X_train, y_train)\n",
    "\n",
    "y_pred = lr.predict(X_test)\n",
    "predicted_generes = label_encoder.inverse_transform(y_pred)\n",
    "\n",
    "test_df['Predicted_Genre'] = predicted_generes\n",
    "test_df[['Title', 'Predicted_Genre']]"
   ]
  },
  {
   "cell_type": "code",
   "execution_count": 24,
   "id": "525f9872",
   "metadata": {},
   "outputs": [
    {
     "data": {
      "application/vnd.microsoft.datawrangler.viewer.v0+json": {
       "columns": [
        {
         "name": "index",
         "rawType": "int64",
         "type": "integer"
        },
        {
         "name": "ID",
         "rawType": "object",
         "type": "string"
        },
        {
         "name": "Genre",
         "rawType": "object",
         "type": "string"
        },
        {
         "name": "Predicted_Genre",
         "rawType": "object",
         "type": "string"
        }
       ],
       "ref": "7f534894-b4c0-4e8e-a5d0-a34a729c53a9",
       "rows": [
        [
         "0",
         "1",
         "thriller",
         "drama"
        ],
        [
         "1",
         "2",
         "comedy",
         "drama"
        ],
        [
         "2",
         "3",
         "documentary",
         "documentary"
        ],
        [
         "3",
         "4",
         "drama",
         "drama"
        ],
        [
         "4",
         "5",
         "drama",
         "drama"
        ],
        [
         "5",
         "6",
         "horror",
         "drama"
        ],
        [
         "6",
         "7",
         "drama",
         "drama"
        ],
        [
         "7",
         "8",
         "comedy",
         "comedy"
        ],
        [
         "8",
         "9",
         "documentary",
         "documentary"
        ],
        [
         "9",
         "10",
         "drama",
         "drama"
        ],
        [
         "10",
         "11",
         "drama",
         "drama"
        ],
        [
         "11",
         "12",
         "drama",
         "drama"
        ],
        [
         "12",
         "13",
         "drama",
         "drama"
        ],
        [
         "13",
         "14",
         "drama",
         "documentary"
        ],
        [
         "14",
         "15",
         "short",
         "short"
        ],
        [
         "15",
         "16",
         "documentary",
         "sport"
        ],
        [
         "16",
         "17",
         "comedy",
         "comedy"
        ],
        [
         "17",
         "18",
         "western",
         "western"
        ],
        [
         "18",
         "19",
         "documentary",
         "documentary"
        ],
        [
         "19",
         "20",
         "documentary",
         "drama"
        ],
        [
         "20",
         "21",
         "short",
         "drama"
        ],
        [
         "21",
         "22",
         "drama",
         "documentary"
        ],
        [
         "22",
         "23",
         "documentary",
         "documentary"
        ],
        [
         "23",
         "24",
         "documentary",
         "music"
        ],
        [
         "24",
         "25",
         "documentary",
         "documentary"
        ],
        [
         "25",
         "26",
         "documentary",
         "documentary"
        ],
        [
         "26",
         "27",
         "drama",
         "drama"
        ],
        [
         "27",
         "28",
         "family",
         "drama"
        ],
        [
         "28",
         "29",
         "sport",
         "sport"
        ],
        [
         "29",
         "30",
         "horror",
         "comedy"
        ],
        [
         "30",
         "31",
         "western",
         "drama"
        ],
        [
         "31",
         "32",
         "drama",
         "drama"
        ],
        [
         "32",
         "33",
         "documentary",
         "documentary"
        ],
        [
         "33",
         "34",
         "comedy",
         "comedy"
        ],
        [
         "34",
         "35",
         "drama",
         "drama"
        ],
        [
         "35",
         "36",
         "documentary",
         "drama"
        ],
        [
         "36",
         "37",
         "drama",
         "drama"
        ],
        [
         "37",
         "38",
         "romance",
         "drama"
        ],
        [
         "38",
         "39",
         "war",
         "drama"
        ],
        [
         "39",
         "40",
         "drama",
         "drama"
        ],
        [
         "40",
         "41",
         "short",
         "drama"
        ],
        [
         "41",
         "42",
         "game-show",
         "comedy"
        ],
        [
         "42",
         "43",
         "short",
         "documentary"
        ],
        [
         "43",
         "44",
         "documentary",
         "documentary"
        ],
        [
         "44",
         "45",
         "documentary",
         "documentary"
        ],
        [
         "45",
         "46",
         "documentary",
         "documentary"
        ],
        [
         "46",
         "47",
         "comedy",
         "documentary"
        ],
        [
         "47",
         "48",
         "comedy",
         "drama"
        ],
        [
         "48",
         "49",
         "drama",
         "drama"
        ],
        [
         "49",
         "50",
         "documentary",
         "documentary"
        ]
       ],
       "shape": {
        "columns": 3,
        "rows": 54200
       }
      },
      "text/html": [
       "<div>\n",
       "<style scoped>\n",
       "    .dataframe tbody tr th:only-of-type {\n",
       "        vertical-align: middle;\n",
       "    }\n",
       "\n",
       "    .dataframe tbody tr th {\n",
       "        vertical-align: top;\n",
       "    }\n",
       "\n",
       "    .dataframe thead th {\n",
       "        text-align: right;\n",
       "    }\n",
       "</style>\n",
       "<table border=\"1\" class=\"dataframe\">\n",
       "  <thead>\n",
       "    <tr style=\"text-align: right;\">\n",
       "      <th></th>\n",
       "      <th>ID</th>\n",
       "      <th>Genre</th>\n",
       "      <th>Predicted_Genre</th>\n",
       "    </tr>\n",
       "  </thead>\n",
       "  <tbody>\n",
       "    <tr>\n",
       "      <th>0</th>\n",
       "      <td>1</td>\n",
       "      <td>thriller</td>\n",
       "      <td>drama</td>\n",
       "    </tr>\n",
       "    <tr>\n",
       "      <th>1</th>\n",
       "      <td>2</td>\n",
       "      <td>comedy</td>\n",
       "      <td>drama</td>\n",
       "    </tr>\n",
       "    <tr>\n",
       "      <th>2</th>\n",
       "      <td>3</td>\n",
       "      <td>documentary</td>\n",
       "      <td>documentary</td>\n",
       "    </tr>\n",
       "    <tr>\n",
       "      <th>3</th>\n",
       "      <td>4</td>\n",
       "      <td>drama</td>\n",
       "      <td>drama</td>\n",
       "    </tr>\n",
       "    <tr>\n",
       "      <th>4</th>\n",
       "      <td>5</td>\n",
       "      <td>drama</td>\n",
       "      <td>drama</td>\n",
       "    </tr>\n",
       "    <tr>\n",
       "      <th>...</th>\n",
       "      <td>...</td>\n",
       "      <td>...</td>\n",
       "      <td>...</td>\n",
       "    </tr>\n",
       "    <tr>\n",
       "      <th>54195</th>\n",
       "      <td>54196</td>\n",
       "      <td>horror</td>\n",
       "      <td>drama</td>\n",
       "    </tr>\n",
       "    <tr>\n",
       "      <th>54196</th>\n",
       "      <td>54197</td>\n",
       "      <td>western</td>\n",
       "      <td>drama</td>\n",
       "    </tr>\n",
       "    <tr>\n",
       "      <th>54197</th>\n",
       "      <td>54198</td>\n",
       "      <td>adult</td>\n",
       "      <td>comedy</td>\n",
       "    </tr>\n",
       "    <tr>\n",
       "      <th>54198</th>\n",
       "      <td>54199</td>\n",
       "      <td>drama</td>\n",
       "      <td>drama</td>\n",
       "    </tr>\n",
       "    <tr>\n",
       "      <th>54199</th>\n",
       "      <td>54200</td>\n",
       "      <td>drama</td>\n",
       "      <td>documentary</td>\n",
       "    </tr>\n",
       "  </tbody>\n",
       "</table>\n",
       "<p>54200 rows × 3 columns</p>\n",
       "</div>"
      ],
      "text/plain": [
       "          ID        Genre Predicted_Genre\n",
       "0          1     thriller           drama\n",
       "1          2       comedy           drama\n",
       "2          3  documentary     documentary\n",
       "3          4        drama           drama\n",
       "4          5        drama           drama\n",
       "...      ...          ...             ...\n",
       "54195  54196       horror           drama\n",
       "54196  54197      western           drama\n",
       "54197  54198        adult          comedy\n",
       "54198  54199        drama           drama\n",
       "54199  54200        drama     documentary\n",
       "\n",
       "[54200 rows x 3 columns]"
      ]
     },
     "execution_count": 24,
     "metadata": {},
     "output_type": "execute_result"
    }
   ],
   "source": [
    "test_df['Predicted_Genere'] = predicted_generes\n",
    "merged_df = pd.merge(test_solution_df[['ID', 'Genre']], test_df[['ID', 'Predicted_Genre']], on='ID')\n",
    "merged_df"
   ]
  },
  {
   "cell_type": "markdown",
   "id": "e7a1ec41",
   "metadata": {},
   "source": [
    "Model Evaluation"
   ]
  },
  {
   "cell_type": "code",
   "execution_count": 26,
   "id": "ca615abe",
   "metadata": {},
   "outputs": [
    {
     "name": "stdout",
     "output_type": "stream",
     "text": [
      "Accuracy:  0.5946\n",
      "\n",
      " Classification scores : \n",
      "              precision    recall  f1-score   support\n",
      "\n",
      "      action       0.51      0.29      0.37      1314\n",
      "       adult       0.65      0.24      0.35       590\n",
      "   adventure       0.67      0.16      0.26       775\n",
      "   animation       0.59      0.04      0.08       498\n",
      "   biography       0.00      0.00      0.00       264\n",
      "      comedy       0.54      0.60      0.57      7446\n",
      "       crime       0.41      0.03      0.06       505\n",
      " documentary       0.68      0.87      0.76     13096\n",
      "       drama       0.55      0.79      0.65     13612\n",
      "      family       0.48      0.08      0.14       783\n",
      "     fantasy       0.61      0.03      0.06       322\n",
      "   game-show       0.91      0.50      0.64       193\n",
      "     history       0.00      0.00      0.00       243\n",
      "      horror       0.66      0.57      0.61      2204\n",
      "       music       0.68      0.46      0.55       731\n",
      "     musical       0.44      0.01      0.03       276\n",
      "     mystery       0.33      0.00      0.01       318\n",
      "        news       0.69      0.05      0.09       181\n",
      "  reality-tv       0.50      0.21      0.30       883\n",
      "     romance       0.42      0.02      0.05       672\n",
      "      sci-fi       0.60      0.26      0.36       646\n",
      "       short       0.48      0.34      0.40      5072\n",
      "       sport       0.72      0.28      0.41       431\n",
      "   talk-show       0.61      0.19      0.29       391\n",
      "    thriller       0.41      0.13      0.19      1590\n",
      "         war       1.00      0.01      0.02       132\n",
      "     western       0.91      0.72      0.81      1032\n",
      "\n",
      "    accuracy                           0.59     54200\n",
      "   macro avg       0.56      0.26      0.30     54200\n",
      "weighted avg       0.58      0.59      0.55     54200\n",
      "\n"
     ]
    }
   ],
   "source": [
    "from sklearn.metrics import accuracy_score, classification_report\n",
    "\n",
    "accuracy = accuracy_score(merged_df['Genre'], merged_df['Predicted_Genre'])\n",
    "print(f\"Accuracy: {accuracy: .4f}\")\n",
    "\n",
    "print(\"\\n Classification scores : \")\n",
    "print(classification_report(merged_df['Genre'], merged_df['Predicted_Genre']))"
   ]
  }
 ],
 "metadata": {
  "kernelspec": {
   "display_name": "Python 3",
   "language": "python",
   "name": "python3"
  },
  "language_info": {
   "codemirror_mode": {
    "name": "ipython",
    "version": 3
   },
   "file_extension": ".py",
   "mimetype": "text/x-python",
   "name": "python",
   "nbconvert_exporter": "python",
   "pygments_lexer": "ipython3",
   "version": "3.11.0"
  }
 },
 "nbformat": 4,
 "nbformat_minor": 5
}
